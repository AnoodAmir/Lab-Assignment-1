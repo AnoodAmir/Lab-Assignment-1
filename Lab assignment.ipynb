{
 "cells": [
  {
   "cell_type": "markdown",
   "id": "ae9f984f",
   "metadata": {},
   "source": [
    "# Question 1\n",
    "## LIST ITERATION\n",
    " \n",
    " # A \n",
    "   ## LIST OF MOVIES"
   ]
  },
  {
   "cell_type": "code",
   "execution_count": 11,
   "id": "76d140d1",
   "metadata": {},
   "outputs": [
    {
     "name": "stdout",
     "output_type": "stream",
     "text": [
      "['Suits', 'Gilmore Girls', 'The Office']\n"
     ]
    }
   ],
   "source": [
    "movies=['Suits','Gilmore Girls','The Office']\n",
    "print(movies)"
   ]
  },
  {
   "cell_type": "markdown",
   "id": "32c828f3",
   "metadata": {},
   "source": [
    "# B\n",
    "## ITERATE  OVER THE LIST"
   ]
  },
  {
   "cell_type": "code",
   "execution_count": 2,
   "id": "94db98bb",
   "metadata": {},
   "outputs": [
    {
     "name": "stdout",
     "output_type": "stream",
     "text": [
      "Suits\n",
      "Gilmore Girls\n",
      "The Office\n"
     ]
    }
   ],
   "source": [
    "for movie in movies:\n",
    "    print(movie)"
   ]
  },
  {
   "cell_type": "markdown",
   "id": "43cfc6a5",
   "metadata": {},
   "source": [
    "# C\n",
    "## MODIFY THE LOOP"
   ]
  },
  {
   "cell_type": "code",
   "execution_count": 9,
   "id": "0c9b0241",
   "metadata": {},
   "outputs": [
    {
     "name": "stdout",
     "output_type": "stream",
     "text": [
      "0: Suits\n",
      "1: Gilmore Girls\n",
      "2: The Office\n"
     ]
    }
   ],
   "source": [
    "for i in range(len(movies)):\n",
    "    print(f\"{i}: {movies[i]}\")"
   ]
  },
  {
   "cell_type": "markdown",
   "id": "b4e9765c",
   "metadata": {},
   "source": [
    "# Question 2\n",
    "## STRING ITERATION"
   ]
  },
  {
   "cell_type": "markdown",
   "id": "8f08a4d6",
   "metadata": {},
   "source": [
    "# A\n",
    "## STRING VARIABLE"
   ]
  },
  {
   "cell_type": "code",
   "execution_count": 33,
   "id": "423fbfdd",
   "metadata": {},
   "outputs": [
    {
     "name": "stdout",
     "output_type": "stream",
     "text": [
      "Anood Amir\n"
     ]
    }
   ],
   "source": [
    "full_name='Anood Amir'\n",
    "print(full_name)"
   ]
  },
  {
   "cell_type": "markdown",
   "id": "9a446bb0",
   "metadata": {},
   "source": [
    "# B\n",
    "## ITERATE OVER THE STRING"
   ]
  },
  {
   "cell_type": "code",
   "execution_count": 35,
   "id": "cd59f092",
   "metadata": {},
   "outputs": [
    {
     "name": "stdout",
     "output_type": "stream",
     "text": [
      "A\n",
      "n\n",
      "o\n",
      "o\n",
      "d\n",
      " \n",
      "A\n",
      "m\n",
      "i\n",
      "r\n"
     ]
    }
   ],
   "source": [
    "for char in full_name:\n",
    "    print(char)"
   ]
  },
  {
   "cell_type": "markdown",
   "id": "9790b11b",
   "metadata": {},
   "source": [
    "# C\n",
    "## COUNT THE VOWELS"
   ]
  },
  {
   "cell_type": "code",
   "execution_count": 38,
   "id": "0e55adf6",
   "metadata": {},
   "outputs": [
    {
     "name": "stdout",
     "output_type": "stream",
     "text": [
      "number of vowels: 5\n"
     ]
    }
   ],
   "source": [
    "vowel_count=0\n",
    "for char in full_name:\n",
    "    if char.lower() in 'aeiou':\n",
    "        vowel_count += 1\n",
    "print (\"number of vowels:\", vowel_count)"
   ]
  }
 ],
 "metadata": {
  "kernelspec": {
   "display_name": "Python 3 (ipykernel)",
   "language": "python",
   "name": "python3"
  },
  "language_info": {
   "codemirror_mode": {
    "name": "ipython",
    "version": 3
   },
   "file_extension": ".py",
   "mimetype": "text/x-python",
   "name": "python",
   "nbconvert_exporter": "python",
   "pygments_lexer": "ipython3",
   "version": "3.11.5"
  }
 },
 "nbformat": 4,
 "nbformat_minor": 5
}
